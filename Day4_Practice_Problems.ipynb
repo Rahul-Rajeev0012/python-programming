{
  "nbformat": 4,
  "nbformat_minor": 0,
  "metadata": {
    "colab": {
      "provenance": []
    },
    "kernelspec": {
      "name": "python3",
      "display_name": "Python 3"
    },
    "language_info": {
      "name": "python"
    }
  },
  "cells": [
    {
      "cell_type": "code",
      "execution_count": 1,
      "metadata": {
        "colab": {
          "base_uri": "https://localhost:8080/"
        },
        "id": "kq_FQO87-S9P",
        "outputId": "7156131b-38df-46c2-e64c-a552bdc4e2ff"
      },
      "outputs": [
        {
          "output_type": "stream",
          "name": "stdout",
          "text": [
            "Guess a number between 1-10: 6\n",
            "Too low!,Try again\n",
            "Guess a number between 1-10: 9\n",
            "Too high!,Try again\n",
            "Guess a number between 1-10: 4\n",
            "Too low!,Try again\n",
            "Guess a number between 1-10: 7\n",
            "Congratulations!, You guessed the number correctly! \n"
          ]
        }
      ],
      "source": [
        "#1.\n",
        "secretNumber=7\n",
        "while True:\n",
        "    guess=int(input(\"Guess a number between 1-10: \"))\n",
        "    if guess==secretNumber:\n",
        "        print(\"Congratulations!, You guessed the number correctly! \")\n",
        "        break\n",
        "    elif guess>secretNumber:\n",
        "        print(\"Too high!,Try again\")\n",
        "    else:\n",
        "        print(\"Too low!,Try again\")\n",
        "\n",
        ""
      ]
    },
    {
      "cell_type": "code",
      "source": [
        "#2.\n",
        "n=int(input(\"Enter the number whose factorial is to be found: \"))\n",
        "f=1\n",
        "if n==0:\n",
        "      print(f\"Factorial of {n} is 1\")\n",
        "elif n<0:\n",
        "      print(\"Factorial of negaive number is not defined\")\n",
        "else:\n",
        "      for i in range(1,n+1):\n",
        "        f*=i\n",
        "        i+=1\n",
        "      print(f\"Factorial of {n} is {f}\")\n",
        "\n",
        "\n",
        "\n",
        "\n"
      ],
      "metadata": {
        "colab": {
          "base_uri": "https://localhost:8080/"
        },
        "id": "u19Mokv_CEd_",
        "outputId": "beff3687-829d-4cda-9e3f-9e060d62254f"
      },
      "execution_count": 8,
      "outputs": [
        {
          "output_type": "stream",
          "name": "stdout",
          "text": [
            "Enter the number whose factorial is to be found: 8\n",
            "Factorial of 8 is 40320\n"
          ]
        }
      ]
    },
    {
      "cell_type": "code",
      "source": [
        "#3.\n",
        "l=float(input(\"Enter the minimum dimension of the picture: \"))\n",
        "n=int(input(\"Enter the number of photos: \"))\n",
        "for i in range(1,n+1):\n",
        "    w=float(input(f\"Enter the width of the picture {i}: \"))\n",
        "    h=float(input(f\"Enter the height of the picture {i}: \"))\n",
        "    if w<l or h<l:\n",
        "        print(\"UPLOAD ANOTHER\")\n",
        "    elif w>=l and h>=l:\n",
        "        if w==h:\n",
        "            print(\"ACCEPTED\")\n",
        "        else:\n",
        "            print(\"CROP IT\")\n",
        "\n",
        "\n",
        "\n",
        "\n",
        "\n",
        "\n"
      ],
      "metadata": {
        "colab": {
          "base_uri": "https://localhost:8080/"
        },
        "id": "meHA_QQrG7XA",
        "outputId": "274b2caa-5a90-4268-8166-35d9ac5bb5c3"
      },
      "execution_count": 15,
      "outputs": [
        {
          "output_type": "stream",
          "name": "stdout",
          "text": [
            "Enter the minimum dimension of the picture: 5\n",
            "Enter the number of photos: 4\n",
            "Enter the width of the picture 1: 2\n",
            "Enter the height of the picture 1: 5\n",
            "UPLOAD ANOTHER\n",
            "Enter the width of the picture 2: 6\n",
            "Enter the height of the picture 2: 6\n",
            "ACCEPTED\n",
            "Enter the width of the picture 3: 7\n",
            "Enter the height of the picture 3: 8\n",
            "CROP IT\n",
            "Enter the width of the picture 4: 2\n",
            "Enter the height of the picture 4: 2\n",
            "UPLOAD ANOTHER\n"
          ]
        }
      ]
    },
    {
      "cell_type": "code",
      "source": [],
      "metadata": {
        "id": "00dGBXYZLlkk"
      },
      "execution_count": 9,
      "outputs": []
    }
  ]
}