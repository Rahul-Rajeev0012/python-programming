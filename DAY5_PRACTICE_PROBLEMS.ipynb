{
  "nbformat": 4,
  "nbformat_minor": 0,
  "metadata": {
    "colab": {
      "provenance": []
    },
    "kernelspec": {
      "name": "python3",
      "display_name": "Python 3"
    },
    "language_info": {
      "name": "python"
    }
  },
  "cells": [
    {
      "cell_type": "code",
      "execution_count": null,
      "metadata": {
        "id": "ARYM6LmTqUfE",
        "colab": {
          "base_uri": "https://localhost:8080/"
        },
        "outputId": "7c368619-113f-4e86-d370-e2d264f324cd"
      },
      "outputs": [
        {
          "output_type": "stream",
          "name": "stdout",
          "text": [
            "Enter three numbers\n",
            "56\n",
            "78\n",
            "66\n",
            "The Middle Value is:  66\n"
          ]
        }
      ],
      "source": [
        "#1.\n",
        "def mid(ls):\n",
        "    ls.sort()\n",
        "    a=ls[1]\n",
        "    return a\n",
        "l=[]\n",
        "print(\"Enter three numbers\")\n",
        "for i in range(0,3):\n",
        "    j=int(input())\n",
        "    l.append(j)\n",
        "print(\"The Middle Value is: \",mid(l))\n"
      ]
    },
    {
      "cell_type": "code",
      "source": [
        "#2.\n",
        "def ADD(a,b):\n",
        "    s=a+b\n",
        "    return s\n",
        "def SUB(a,b):\n",
        "    d=a-b\n",
        "    return d\n",
        "def MUL(a,b):\n",
        "    m=a*b\n",
        "    return m\n",
        "def DIV(a,b):\n",
        "    div=a/b\n",
        "    return div\n",
        "while True:\n",
        "    print(\"Enter the input without using brackets\")\n",
        "    p=input()\n",
        "    l=len(p)\n",
        "    c=0\n",
        "    n=[]\n",
        "    o=[]\n",
        "    try:\n",
        "        k=0\n",
        "        for i in range(0,l):\n",
        "            if p[i] in ['+','*','-','/']:\n",
        "                if c==i:\n",
        "                    continue\n",
        "                else:\n",
        "                    n.append(float(p[c:i]))\n",
        "                    o.append(p[i:i+1])\n",
        "                    c=i+1\n",
        "            else:\n",
        "                continue\n",
        "        n.append(float(p[c:l+1]))\n",
        "        s=n[0]\n",
        "        for i in range(0,len(o)+1):\n",
        "            if '/' in o:\n",
        "                #print('1')\n",
        "                z=o.index('/')\n",
        "                n[z]=DIV(n[z],n[z+1])\n",
        "                o.pop(z)\n",
        "                n.pop(z+1)\n",
        "                s=n[z]\n",
        "                #print('1')\n",
        "            elif '*' in o:\n",
        "                #print('2')\n",
        "                z=o.index('*')\n",
        "                n[z]=MUL(n[z],n[z+1])\n",
        "                o.pop(z)\n",
        "                n.pop(z+1)\n",
        "                s=n[z]\n",
        "                #print('2')\n",
        "            elif '-' in o:\n",
        "                #print('3')\n",
        "                z=o.index('-')\n",
        "                n[z]=SUB(n[z],n[z+1])\n",
        "                o.pop(z)\n",
        "                n.pop(z+1)\n",
        "                s=n[z]\n",
        "                #print('3')\n",
        "            elif '+' in o:\n",
        "                #print('4')\n",
        "                z=o.index('+')\n",
        "                n[z]=ADD(n[z],n[z+1])\n",
        "                o.pop(z)\n",
        "                n.pop(z+1)\n",
        "                s=n[z]\n",
        "                #print('4')\n",
        "    except:\n",
        "        print(\"INVALID INPUT!!!.....\")\n",
        "    else:\n",
        "        print(\"Answer: \",s)\n",
        "    finally:\n",
        "        print(\"------------------------------------------------------------------------------------------------\")\n",
        "        k=input(\"Enter q to exit or any key to continue: \")\n",
        "        k.lower()\n",
        "        if k=='q':\n",
        "            break\n",
        "        else:\n",
        "            continue"
      ],
      "metadata": {
        "id": "JOZkiZ1B1bSJ",
        "colab": {
          "base_uri": "https://localhost:8080/"
        },
        "outputId": "f3892934-5cae-4b7a-bdc3-73a17f46686d"
      },
      "execution_count": 16,
      "outputs": [
        {
          "name": "stdout",
          "output_type": "stream",
          "text": [
            "Enter the input without using brackets\n",
            "23-45.7\n",
            "Answer:  -22.700000000000003\n",
            "------------------------------------------------------------------------------------------------\n",
            "Enter q to exit or any key to continue: w\n",
            "Enter the input without using brackets\n",
            "34+-17\n",
            "Answer:  17.0\n",
            "------------------------------------------------------------------------------------------------\n",
            "Enter q to exit or any key to continue: w\n",
            "Enter the input without using brackets\n",
            "76/23\n",
            "Answer:  3.3043478260869565\n",
            "------------------------------------------------------------------------------------------------\n",
            "Enter q to exit or any key to continue: w\n",
            "Enter the input without using brackets\n",
            "12*3.766\n",
            "Answer:  45.192\n",
            "------------------------------------------------------------------------------------------------\n",
            "Enter q to exit or any key to continue: w\n",
            "Enter the input without using brackets\n",
            "78/52-34+77/8*9-23.5*-15/3.72\n",
            "Answer:  148.88306451612902\n",
            "------------------------------------------------------------------------------------------------\n",
            "Enter q to exit or any key to continue: q\n"
          ]
        }
      ]
    },
    {
      "cell_type": "code",
      "source": [
        "#3.\n",
        "def HYP(a,b):\n",
        "    c=((a**2)+(b**2))**(1/2)\n",
        "    return c\n",
        "i=float(input(\"Enter the 1st shorter side of the right triangle: \"))\n",
        "j=float(input(\"Enter the 2nd shorter side of the right triangle: \"))\n",
        "print(\"Hypotenuse of the give triangle is: \",HYP(i,j))\n"
      ],
      "metadata": {
        "id": "N3Qct52h_WHY",
        "colab": {
          "base_uri": "https://localhost:8080/"
        },
        "outputId": "a4b80e87-8d6e-4bd4-b9b8-dff6c70cec9b"
      },
      "execution_count": null,
      "outputs": [
        {
          "output_type": "stream",
          "name": "stdout",
          "text": [
            "Enter the 1st shorter side of the right triangle: 3\n",
            "Enter the 2nd shorter side of the right triangle: 4\n",
            "Hypotenuse of the give triangle is:  5.0\n"
          ]
        }
      ]
    },
    {
      "cell_type": "code",
      "source": [
        "#4.\n",
        "class Rectangle:\n",
        "    def __init__(self,l,w):\n",
        "        self.length=l\n",
        "        self.width=w\n",
        "    def Perimeter(self):\n",
        "        return 2*(self.length+self.width)\n",
        "    def Area(self):\n",
        "        return self.length*self.width\n",
        "    def display(self):\n",
        "        print(\"Length of the Rectangle: \",self.length)\n",
        "        print(\"Width of the Rectangle: \",self.width)\n",
        "        print(\"Perimeter of the Rectangle: \",r.Area())\n",
        "        print(\"Area of the Rectangle: \",r.Perimeter())\n",
        "l=float(input(\"Enter the length of the Rectangle: \"))\n",
        "w=float(input(\"Enter the width of the Rectangle: \"))\n",
        "r=Rectangle(l,w)\n",
        "r.display()"
      ],
      "metadata": {
        "id": "m9Uh3DX0UgKW",
        "colab": {
          "base_uri": "https://localhost:8080/"
        },
        "outputId": "3c37ab37-a68e-42e0-c18a-4693c652a3e7"
      },
      "execution_count": 7,
      "outputs": [
        {
          "output_type": "stream",
          "name": "stdout",
          "text": [
            "Enter the length of the Rectangle: 3\n",
            "Enter the width of the Rectangle: 4\n",
            "Length of the Rectangle:  3.0\n",
            "Width of the Rectangle:  4.0\n",
            "Perimeter of the Rectangle:  12.0\n",
            "Area of the Rectangle:  14.0\n"
          ]
        }
      ]
    },
    {
      "cell_type": "code",
      "source": [
        "class BankAccount:\n",
        "\n",
        "    def __init__(self,a,n,b=0.0):\n",
        "        self.accnum=a\n",
        "        self.name=n\n",
        "        self.balance=b\n",
        "    def Deposit(self,emt):\n",
        "        self.balance=self.balance+emt\n",
        "        print(\"Rs.\",emt,\" deposited successfully\")\n",
        "    def Withdrawal(self,emt):\n",
        "        if emt>self.balance:\n",
        "            print(\"INSUFFICIENT BALANCE\")\n",
        "        else:\n",
        "            self.balance=self.balance-emt\n",
        "            print(\"Rs.\",emt,\" withdrawn from your account\")\n",
        "    def bankFees(self):\n",
        "        return self.balance*0.05\n",
        "    def __repr__(self):\n",
        "        return f'ACCOUNT NUMBER: {self.accnum}\\nACCOUNT NAME: {self.name}\\nAvailable Balance: {self.balance}\\nBank Fees {b.bankFees()}\\n '\n",
        "i=int(input(\"Enter account number: \"))\n",
        "j=input(\"Enter the account name: \")\n",
        "b=BankAccount(i,j)\n",
        "while True:\n",
        "    x=input(\"Enter 1 for DEPOSIT.\\nEnter 2 for WITHDRAWAL.\\nEnter 3 for BANKFEES.\\nEnter 4 for ACCOUNT DETAILS.\\nEnter 5 to QUIT\\n\")\n",
        "    if x=='1':\n",
        "        emt=float(input(\"Enter the amount to deposit: \"))\n",
        "        b.Deposit(emt)\n",
        "    elif x=='2':\n",
        "        emt=float(input(\"Enter the amount to withdraw: \"))\n",
        "        b.Withdrawal(emt)\n",
        "    elif x=='3':\n",
        "        print(\"BankFees: \",b.bankFees())\n",
        "    elif x=='4':\n",
        "        print(b)\n",
        "    elif x=='5':\n",
        "        print(\"Thank You\")\n",
        "        break\n",
        "    else:\n",
        "        print(\"Invalid Input!!\")\n",
        "    print(\"...........................................................................................................................................\")\n",
        "\n",
        "\n",
        "\n",
        "\n",
        "\n"
      ],
      "metadata": {
        "colab": {
          "base_uri": "https://localhost:8080/"
        },
        "id": "zyP1QaegAmb_",
        "outputId": "f590a1b2-fdb7-4d66-a172-6e6670265258"
      },
      "execution_count": 15,
      "outputs": [
        {
          "output_type": "stream",
          "name": "stdout",
          "text": [
            "Enter account number: 12345\n",
            "Enter the account name: Vijay\n",
            "Enter 1 for DEPOSIT.\n",
            "Enter 2 for WITHDRAWAL.\n",
            "Enter 3 for BANKFEES.\n",
            "Enter 4 for ACCOUNT DETAILS.\n",
            "Enter 5 to QUIT\n",
            "1\n",
            "Enter the amount to deposit: 30000\n",
            "Rs. 30000.0  deposited successfully\n",
            "...........................................................................................................................................\n",
            "Enter 1 for DEPOSIT.\n",
            "Enter 2 for WITHDRAWAL.\n",
            "Enter 3 for BANKFEES.\n",
            "Enter 4 for ACCOUNT DETAILS.\n",
            "Enter 5 to QUIT\n",
            "3\n",
            "BankFees:  1500.0\n",
            "...........................................................................................................................................\n",
            "Enter 1 for DEPOSIT.\n",
            "Enter 2 for WITHDRAWAL.\n",
            "Enter 3 for BANKFEES.\n",
            "Enter 4 for ACCOUNT DETAILS.\n",
            "Enter 5 to QUIT\n",
            "2\n",
            "Enter the amount to withdraw: 23647.50\n",
            "Rs. 23647.5  withdrawn from your account\n",
            "...........................................................................................................................................\n",
            "Enter 1 for DEPOSIT.\n",
            "Enter 2 for WITHDRAWAL.\n",
            "Enter 3 for BANKFEES.\n",
            "Enter 4 for ACCOUNT DETAILS.\n",
            "Enter 5 to QUIT\n",
            "2\n",
            "Enter the amount to withdraw: 5000\n",
            "Rs. 5000.0  withdrawn from your account\n",
            "...........................................................................................................................................\n",
            "Enter 1 for DEPOSIT.\n",
            "Enter 2 for WITHDRAWAL.\n",
            "Enter 3 for BANKFEES.\n",
            "Enter 4 for ACCOUNT DETAILS.\n",
            "Enter 5 to QUIT\n",
            "2\n",
            "Enter the amount to withdraw: 5000\n",
            "INSUFFICIENT BALANCE\n",
            "...........................................................................................................................................\n",
            "Enter 1 for DEPOSIT.\n",
            "Enter 2 for WITHDRAWAL.\n",
            "Enter 3 for BANKFEES.\n",
            "Enter 4 for ACCOUNT DETAILS.\n",
            "Enter 5 to QUIT\n",
            "4\n",
            "ACCOUNT NUMBER: 12345\n",
            "ACCOUNT NAME: Vijay\n",
            "Available Balance: 1352.5\n",
            "Bank Fees 67.625\n",
            " \n",
            "...........................................................................................................................................\n",
            "Enter 1 for DEPOSIT.\n",
            "Enter 2 for WITHDRAWAL.\n",
            "Enter 3 for BANKFEES.\n",
            "Enter 4 for ACCOUNT DETAILS.\n",
            "Enter 5 to QUIT\n",
            "5\n",
            "Thank You\n"
          ]
        }
      ]
    },
    {
      "cell_type": "code",
      "source": [],
      "metadata": {
        "id": "Q5MPYrzaLur0"
      },
      "execution_count": null,
      "outputs": []
    }
  ]
}