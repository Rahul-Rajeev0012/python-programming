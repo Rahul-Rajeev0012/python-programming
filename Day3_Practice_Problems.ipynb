{
  "nbformat": 4,
  "nbformat_minor": 0,
  "metadata": {
    "colab": {
      "provenance": []
    },
    "kernelspec": {
      "name": "python3",
      "display_name": "Python 3"
    },
    "language_info": {
      "name": "python"
    }
  },
  "cells": [
    {
      "cell_type": "code",
      "source": [
        "#1.\n",
        "score=[23,45,67,42,56,12,8,9,23,90,88]\n",
        "print(\"Participants score: \",score)\n",
        "score.sort()\n",
        "print(\"Runner up score is: \",score[-2])\n",
        "\n"
      ],
      "metadata": {
        "colab": {
          "base_uri": "https://localhost:8080/"
        },
        "id": "cWNWmescAl6p",
        "outputId": "f74123eb-2432-4f79-e680-6c3d67e9e8cb"
      },
      "execution_count": 22,
      "outputs": [
        {
          "output_type": "stream",
          "name": "stdout",
          "text": [
            "Participants score:  [23, 45, 67, 42, 56, 12, 8, 9, 23, 90, 88]\n",
            "Runner up score is:  88\n"
          ]
        }
      ]
    },
    {
      "cell_type": "code",
      "source": [
        "#2.\n",
        "D={'John':[25,32,43],'Peter':[87,55,96],'Ram':[58,55,43],'Meena':[63,79,85]}\n",
        "name=input(\"Enter the name: \")\n",
        "\n",
        "n2=n.capitalize()\n",
        "if n2 in D:\n",
        "    D[name]=[88,77,99]\n",
        "    print(D)\n",
        "else:\n",
        "    print(\"Name not found\")\n"
      ],
      "metadata": {
        "colab": {
          "base_uri": "https://localhost:8080/"
        },
        "id": "zEnTXzLRG7m9",
        "outputId": "280a7c14-174a-4321-8d9c-3bc6b5fece43"
      },
      "execution_count": 39,
      "outputs": [
        {
          "output_type": "stream",
          "name": "stdout",
          "text": [
            "Enter the name: PeTer\n",
            "{'John': [25, 32, 43], 'Peter': [87, 55, 96], 'Ram': [58, 55, 43], 'Meena': [63, 79, 85], 'PeTer': [88, 77, 99]}\n"
          ]
        }
      ]
    },
    {
      "cell_type": "code",
      "source": [
        "#3.\n",
        "age=int(input(\"Enter the age: \"))\n",
        "g.lower()\n",
        "if age<5:\n",
        "    price=0\n",
        "elif age>=5 and age<=12:\n",
        "    price=10\n",
        "elif age>12 and age<=60:\n",
        "    price=50\n",
        "else:\n",
        "    price=0\n",
        "if age>=5 and age<=60:\n",
        "    g=input(\"Enter the gender(male/female): \")\n",
        "    if g=='female':\n",
        "        price=price/2\n",
        "print(\"The ticket price is: \",price)"
      ],
      "metadata": {
        "colab": {
          "base_uri": "https://localhost:8080/"
        },
        "id": "TeuSkKLNKHSU",
        "outputId": "5f58b568-cd65-4cf4-99d3-34c0d15339a2"
      },
      "execution_count": 45,
      "outputs": [
        {
          "output_type": "stream",
          "name": "stdout",
          "text": [
            "Enter the age: 11\n",
            "Enter the gender(male/female): male\n",
            "The ticket price is:  10\n"
          ]
        }
      ]
    },
    {
      "cell_type": "code",
      "source": [],
      "metadata": {
        "id": "MehmqKJeQlSL"
      },
      "execution_count": null,
      "outputs": []
    }
  ]
}