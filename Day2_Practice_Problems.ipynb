{
  "nbformat": 4,
  "nbformat_minor": 0,
  "metadata": {
    "colab": {
      "provenance": []
    },
    "kernelspec": {
      "name": "python3",
      "display_name": "Python 3"
    },
    "language_info": {
      "name": "python"
    }
  },
  "cells": [
    {
      "cell_type": "code",
      "execution_count": 1,
      "metadata": {
        "colab": {
          "base_uri": "https://localhost:8080/"
        },
        "id": "3zyiOIwz59rB",
        "outputId": "3b155006-0cad-4d8b-bc42-fb6c11f27802"
      },
      "outputs": [
        {
          "output_type": "stream",
          "name": "stdout",
          "text": [
            "534\n"
          ]
        }
      ],
      "source": [
        "#1. Write a program to find sum of all elements in a list of integers.\n",
        "l=[19,32,10,55,31,32,94,29,10,65,77,40,40]\n",
        "s=sum(l)\n",
        "print(s)"
      ]
    },
    {
      "cell_type": "code",
      "source": [
        "#2. Input a sentence as a string. a) Print its length,b) Print the first half of string\n",
        "str=input(\"enter a sentance : \")\n",
        "l=len(str)\n",
        "print(\"length of sentance = \",l)\n",
        "print(\"First half of string :\",str[0:int(l/2)])"
      ],
      "metadata": {
        "colab": {
          "base_uri": "https://localhost:8080/"
        },
        "id": "497T9owB7hnq",
        "outputId": "fbc80a05-7ccd-4923-b487-0078a6d43762"
      },
      "execution_count": 15,
      "outputs": [
        {
          "output_type": "stream",
          "name": "stdout",
          "text": [
            "enter a sentance : Hello World\n",
            "length of sentance =  11\n",
            "First half of string : Hello\n"
          ]
        }
      ]
    },
    {
      "cell_type": "code",
      "source": [
        "#3. Write a program to enter a tuple of integers as(78,45,32,19,82,77,40,39). Change the third value in the tuple to 100\n",
        "t=(78,45,32,19,82,77,40,39)\n",
        "l=list(t)\n",
        "l[2]=100\n",
        "t1=tuple(l)\n",
        "print(t1)\n",
        "\n"
      ],
      "metadata": {
        "colab": {
          "base_uri": "https://localhost:8080/"
        },
        "id": "UC_KkHT3BFzl",
        "outputId": "0ca6c8cc-e65d-4a50-f7bd-88b025d5e5e2"
      },
      "execution_count": 21,
      "outputs": [
        {
          "output_type": "stream",
          "name": "stdout",
          "text": [
            "(78, 45, 100, 19, 82, 77, 40, 39)\n"
          ]
        }
      ]
    },
    {
      "cell_type": "code",
      "source": [
        "#4. Consider a list listA=[19,32,10,55,31,32,94,29,10,65,77,40,40]\n",
        "#(a) Delete the first occurrence of 32\n",
        "#(b) Delete all occurrences of 40\n",
        "#(c) Delete the value at index=5\n",
        "#(d) Modify the value at index=9 as 300\n",
        "#(e) Add 200 at index=2\n",
        "#(f) Print the final list with its length, maximum valueand sum of all elements\n",
        "\n",
        "listA=[19,32,10,55,31,32,94,29,10,65,77,40,40]\n",
        "print(\"initial list: \",listA)\n",
        "a=listA\n",
        "a.remove(32)\n",
        "del a[10:12]\n",
        "del a[5]\n",
        "a.append(300)\n",
        "a.insert(2,200)\n",
        "print(\"final list: \",a)\n",
        "print(\"length: \",len(a))\n",
        "print(\"maximum value: \",max(a))\n",
        "print(\"sum: \",sum(a))\n",
        "\n"
      ],
      "metadata": {
        "colab": {
          "base_uri": "https://localhost:8080/"
        },
        "id": "_3jY2A1RFi74",
        "outputId": "8de36ad5-a7b4-41a5-b071-c0642a70c81b"
      },
      "execution_count": 67,
      "outputs": [
        {
          "output_type": "stream",
          "name": "stdout",
          "text": [
            "initial list:  [19, 32, 10, 55, 31, 32, 94, 29, 10, 65, 77, 40, 40]\n",
            "final list:  [19, 10, 200, 55, 31, 32, 29, 10, 65, 77, 300]\n",
            "length:  11\n",
            "maximum value:  300\n",
            "sum:  828\n"
          ]
        }
      ]
    },
    {
      "cell_type": "code",
      "source": [
        "#5. Consider a string ”The day has been long”.\n",
        "#(a) Delete the value at index =4\n",
        "#(b) Print the string 4 times in a single line with spacebetween each repetition\n",
        "#(c) Print the string 3 times in a new line each time\n",
        "#(d) Modify the string at index 7 as ’A’\n",
        "#(e) Print the string from index 4 to 15\n",
        "#(f) Print the final string with its length\n",
        "\n",
        "str1=\"The day has been long\"\n",
        "print(\"initial string: \",str1)\n",
        "s=str1[0:4]+str1[5:]\n",
        "str1=s\n",
        "print((str1+\" \")*4)\n",
        "print((str1+\"\\n\")*3)\n",
        "s2=str1[0:7]+\"A\"+str1[8:]\n",
        "print(str1[4:16])\n",
        "str1=s2\n",
        "print(\"final string: \",str1)\n",
        "print(\"length: \",len(str1))"
      ],
      "metadata": {
        "colab": {
          "base_uri": "https://localhost:8080/"
        },
        "id": "bpYBLCqCHiIa",
        "outputId": "3346414f-568b-4fd0-e90f-0d14a5d275c4"
      },
      "execution_count": 99,
      "outputs": [
        {
          "output_type": "stream",
          "name": "stdout",
          "text": [
            "initial string:  The day has been long\n",
            "The ay has been long The ay has been long The ay has been long The ay has been long \n",
            "The ay has been long\n",
            "The ay has been long\n",
            "The ay has been long\n",
            "\n",
            "ay has been \n",
            "final string:  The ay Aas been long\n",
            "length:  20\n"
          ]
        }
      ]
    },
    {
      "cell_type": "code",
      "source": [],
      "metadata": {
        "id": "bHRV_YtoXi3l"
      },
      "execution_count": null,
      "outputs": []
    }
  ]
}